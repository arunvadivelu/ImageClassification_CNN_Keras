{
 "cells": [
  {
   "cell_type": "code",
   "execution_count": 2,
   "metadata": {
    "scrolled": true
   },
   "outputs": [],
   "source": [
    "import numpy as np \n",
    "import pandas as pd \n",
    "import os\n",
    "from skimage.io import imread \n",
    "from PIL import Image \n",
    "from glob import glob\n",
    "from sklearn.externals import joblib\n",
    "from keras.preprocessing.image import ImageDataGenerator, load_img, img_to_array\n",
    "\n",
    "\n",
    "from keras.models import Sequential\n",
    "from keras import optimizers, losses, activations, models\n",
    "from keras.layers import Conv2D, Activation, Convolution2D, Dense, Input, Flatten, Dropout, MaxPooling2D, BatchNormalization, GlobalMaxPool2D, Concatenate\n"
   ]
  },
  {
   "cell_type": "code",
   "execution_count": null,
   "metadata": {},
   "outputs": [],
   "source": [
    "train_files = pd.DataFrame({'col':glob('train/*/*')})\n",
    "test_path = pd.DataFrame({'col':glob('test/*')})\n",
    "n_train = len(train_files)"
   ]
  },
  {
   "cell_type": "code",
   "execution_count": null,
   "metadata": {},
   "outputs": [],
   "source": [
    "batch_size = 1\n",
    "\n",
    "train_datagen = ImageDataGenerator(rescale=1./255)\n",
    "train_generator = train_datagen.flow_from_directory(\n",
    "        'train/',  # this is the target directory\n",
    "        target_size=(255, 255),  # all images will be resized to 255x1255\n",
    "        batch_size=batch_size,\n",
    "        class_mode='categorical')  # since we use binary_crossentropy loss, we need binary labels\n",
    "X_train =[]\n",
    "Y_train =[]\n",
    "for i in range(n_train):\n",
    "    x, y = train_generator.next()\n",
    "    X_train.append(x[0])\n",
    "    Y_train.append(y[0])\n",
    "    \n",
    "X_train = np.asarray(X_train)\n",
    "Y_train = np.asarray(Y_train)    \n"
   ]
  },
  {
   "cell_type": "code",
   "execution_count": null,
   "metadata": {},
   "outputs": [],
   "source": [
    "X_train.shape[0]"
   ]
  },
  {
   "cell_type": "code",
   "execution_count": 4,
   "metadata": {},
   "outputs": [],
   "source": [
    "X_tr_filename = 'X_train_matrix.sav'\n",
    "Y_tr_filename = 'Y_train_matrix.sav'\n",
    "#joblib.dump(X_train, X_tr_filename)\n",
    "#joblib.dump(Y_train, Y_tr_filename)"
   ]
  },
  {
   "cell_type": "code",
   "execution_count": 5,
   "metadata": {},
   "outputs": [],
   "source": [
    "X_train = joblib.load(X_tr_filename)\n",
    "Y_train = joblib.load(Y_tr_filename)"
   ]
  },
  {
   "cell_type": "code",
   "execution_count": 6,
   "metadata": {},
   "outputs": [],
   "source": [
    "input_shape = (255, 255, 3)\n",
    "nclasses =Y_train.shape[1]"
   ]
  },
  {
   "cell_type": "code",
   "execution_count": 7,
   "metadata": {},
   "outputs": [],
   "source": [
    "# from sklearn.model_selection import StratifiedShuffleSplit\n",
    "# sss = StratifiedShuffleSplit(n_splits=2, test_size=0.8, random_state=0)\n",
    "# sss.get_n_splits(X_train, Y_train)\n",
    "# for train_index, test_index in sss.split(X_train, Y_train):\n",
    "#     Y_train, y_test = Y_train[train_index], Y_train[test_index]\n",
    "#     X_train, x_test = X_train[train_index], X_train[test_index]\n",
    "    \n",
    "from sklearn.model_selection import train_test_split\n",
    "n_samples=X_train.shape[0]\n",
    "indices = np.arange(n_samples)\n",
    "x_train, x_test, y_train, y_test, idx1, idx2 = train_test_split(X_train, Y_train, indices, test_size=0.3)"
   ]
  },
  {
   "cell_type": "code",
   "execution_count": null,
   "metadata": {},
   "outputs": [],
   "source": [
    "del X_train, Y_train"
   ]
  },
  {
   "cell_type": "code",
   "execution_count": 8,
   "metadata": {},
   "outputs": [],
   "source": [
    "\n",
    "def cnn_model1():\n",
    "     \n",
    "    inp = Input(shape=input_shape)\n",
    "    norm_inp = BatchNormalization()(inp)\n",
    "    X = Convolution2D(16, kernel_size=3, activation=activations.relu, padding=\"same\")(norm_inp)\n",
    "    X = Convolution2D(16, kernel_size=3, activation=activations.relu, padding=\"same\")(X)\n",
    "    X = MaxPooling2D(pool_size=(3, 3))(X)\n",
    "    X = Dropout(rate=0.2)(X)\n",
    "    \n",
    "    X = Convolution2D(32, kernel_size=3, activation=activations.relu, padding=\"same\")(X)\n",
    "    X = Convolution2D(32, kernel_size=3, activation=activations.relu, padding=\"same\")(X)\n",
    "    X = MaxPooling2D(pool_size=(3,3))(X)\n",
    "    X = Dropout(rate=0.2)(X)\n",
    "    \n",
    "    X = Convolution2D(64, kernel_size=2, activation=activations.relu, padding=\"same\")(X)\n",
    "    X = Convolution2D(20, kernel_size=2, activation=activations.relu, padding=\"same\")(X)\n",
    "    X = GlobalMaxPool2D()(X)\n",
    "    X = Dropout(rate=0.2)(X)\n",
    "    \n",
    "    dense_1 = Dense(nclass, activation=activations.softmax)(dense_1)\n",
    "\n",
    "    model = models.Model(inputs=inp, outputs=dense_1)\n",
    "    opt = optimizers.Adam()\n",
    "    \n",
    "    model.compile(optimizer=opt, loss=losses.categorical_crossentropy, metrics=['acc'])\n",
    "    model.summary()\n",
    "    \n",
    "    return model"
   ]
  },
  {
   "cell_type": "code",
   "execution_count": 9,
   "metadata": {},
   "outputs": [],
   "source": [
    "\n",
    "def cnn_model2():\n",
    "    Input_shape = (255, 255, 3)\n",
    "    nclasses =10\n",
    "\n",
    "    model = Sequential()\n",
    "    model.add(Conv2D(32, (3, 3), input_shape=Input_shape))\n",
    "    model.add(Activation('relu'))\n",
    "    model.add(MaxPooling2D(pool_size=(2, 2)))\n",
    "\n",
    "    model.add(Conv2D(32, (3, 3)))\n",
    "    model.add(Activation('relu'))\n",
    "    model.add(MaxPooling2D(pool_size=(2, 2)))\n",
    "\n",
    "    model.add(Conv2D(64, (3, 3)))\n",
    "    model.add(Activation('relu'))\n",
    "    model.add(MaxPooling2D(pool_size=(2, 2)))\n",
    "\n",
    "    model.add(Flatten())  # this converts our 3D feature maps to 1D feature vectors\n",
    "    model.add(Dense(64))\n",
    "    model.add(Activation('relu'))\n",
    "    model.add(Dropout(0.5))\n",
    "    model.add(Dense(nclasses))\n",
    "    model.add(Activation('sigmoid'))\n",
    "\n",
    "    model.compile(loss='categorical_crossentropy', optimizer='rmsprop', metrics=['accuracy'])\n",
    "    return model"
   ]
  },
  {
   "cell_type": "code",
   "execution_count": 10,
   "metadata": {},
   "outputs": [],
   "source": [
    "def cnn_model3():\n",
    "    input_shape = (255, 255, 3)\n",
    "    nclasses =10\n",
    "    model = Sequential()\n",
    "    model.add(Conv2D(32, (3, 3), padding='same', activation='relu', input_shape=input_shape))\n",
    "    model.add(Conv2D(32, (3, 3), activation='relu'))\n",
    "    model.add(MaxPooling2D(pool_size=(2, 2)))\n",
    "    model.add(Dropout(0.25))\n",
    " \n",
    "    model.add(Conv2D(64, (3, 3), padding='same', activation='relu'))\n",
    "    model.add(Conv2D(64, (3, 3), activation='relu'))\n",
    "    model.add(MaxPooling2D(pool_size=(2, 2)))\n",
    "    model.add(Dropout(0.25))\n",
    " \n",
    "    model.add(Conv2D(64, (3, 3), padding='same', activation='relu'))\n",
    "    model.add(Conv2D(64, (3, 3), activation='relu'))\n",
    "    model.add(MaxPooling2D(pool_size=(2, 2)))\n",
    "    model.add(Dropout(0.25))\n",
    " \n",
    "    model.add(Flatten())\n",
    "    model.add(Dense(512, activation='relu'))\n",
    "    model.add(Dropout(0.5))\n",
    "    model.add(Dense(nclasses, activation='softmax'))\n",
    "    \n",
    "    model.compile(loss='binary_crossentropy', optimizer='rmsprop', metrics=['accuracy'])\n",
    "    \n",
    "    return model"
   ]
  },
  {
   "cell_type": "code",
   "execution_count": 11,
   "metadata": {},
   "outputs": [
    {
     "name": "stdout",
     "output_type": "stream",
     "text": [
      "Train on 1732 samples, validate on 193 samples\n",
      "Epoch 1/10\n",
      " - 86s - loss: 2.3429 - acc: 0.1386 - val_loss: 2.2203 - val_acc: 0.2435\n",
      "Epoch 2/10\n",
      " - 82s - loss: 2.1604 - acc: 0.2188 - val_loss: 2.0499 - val_acc: 0.2332\n",
      "Epoch 3/10\n",
      " - 81s - loss: 1.9990 - acc: 0.2598 - val_loss: 1.9054 - val_acc: 0.3057\n",
      "Epoch 4/10\n",
      " - 81s - loss: 1.8652 - acc: 0.3274 - val_loss: 2.6021 - val_acc: 0.1969\n",
      "Epoch 5/10\n",
      " - 82s - loss: 1.6888 - acc: 0.3799 - val_loss: 1.6987 - val_acc: 0.3472\n",
      "Epoch 6/10\n",
      " - 85s - loss: 1.5808 - acc: 0.4301 - val_loss: 2.2764 - val_acc: 0.3109\n",
      "Epoch 7/10\n",
      " - 83s - loss: 1.4046 - acc: 0.5144 - val_loss: 2.2639 - val_acc: 0.3420\n",
      "Epoch 8/10\n",
      " - 96s - loss: 1.2175 - acc: 0.5704 - val_loss: 1.9230 - val_acc: 0.4301\n",
      "Epoch 9/10\n",
      " - 83s - loss: 1.0419 - acc: 0.6334 - val_loss: 2.2715 - val_acc: 0.2850\n",
      "Epoch 10/10\n",
      " - 90s - loss: 0.9060 - acc: 0.6980 - val_loss: 1.9943 - val_acc: 0.4301\n"
     ]
    }
   ],
   "source": [
    "model_2 = cnn_model2()\n",
    "history = model_2.fit(x_train, y_train, validation_split=0.1, epochs=10, shuffle=True, verbose=2)"
   ]
  },
  {
   "cell_type": "code",
   "execution_count": 14,
   "metadata": {},
   "outputs": [],
   "source": [
    "#model_2.save_weights('cnn_model2.h5')\n",
    "#y_predicted = model_2.predict(x_test)"
   ]
  },
  {
   "cell_type": "code",
   "execution_count": null,
   "metadata": {},
   "outputs": [],
   "source": [
    "from sklearn.metrics import confusion_matrix\n",
    "confusion_matrix(y_test, y_predicted, labels=None, sample_weight=None)"
   ]
  },
  {
   "cell_type": "code",
   "execution_count": null,
   "metadata": {},
   "outputs": [],
   "source": [
    "model_3 = cnn_model3()\n",
    "history = model.fit(x_train, y_train, validation_split=0.1, epochs=2, shuffle=True, verbose=2)"
   ]
  },
  {
   "cell_type": "code",
   "execution_count": 17,
   "metadata": {},
   "outputs": [
    {
     "name": "stdout",
     "output_type": "stream",
     "text": [
      "825/825 [==============================] - 12s 15ms/step\n",
      "('Test loss:', 2.1582406971671366)\n",
      "('Test accuracy:', 0.4327272726550247)\n"
     ]
    }
   ],
   "source": [
    "scores = model_2.evaluate(x_test, y_test, verbose=1)\n",
    "print('Test loss:', scores[0])\n",
    "print('Test accuracy:', scores[1])"
   ]
  },
  {
   "cell_type": "code",
   "execution_count": null,
   "metadata": {},
   "outputs": [],
   "source": []
  }
 ],
 "metadata": {
  "kernelspec": {
   "display_name": "Python 2",
   "language": "python",
   "name": "python2"
  },
  "language_info": {
   "codemirror_mode": {
    "name": "ipython",
    "version": 2
   },
   "file_extension": ".py",
   "mimetype": "text/x-python",
   "name": "python",
   "nbconvert_exporter": "python",
   "pygments_lexer": "ipython2",
   "version": "2.7.14"
  }
 },
 "nbformat": 4,
 "nbformat_minor": 2
}
